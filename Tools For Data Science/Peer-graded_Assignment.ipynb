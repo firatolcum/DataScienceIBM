{
 "cells": [
  {
   "cell_type": "markdown",
   "id": "6a41014e",
   "metadata": {},
   "source": [
    "<center>\n",
    "    <img src=\"https://cf-courses-data.s3.us.cloud-object-storage.appdomain.cloud/IBMDeveloperSkillsNetwork-DS0105EN-SkillsNetwork/labs/Module2/images/SN_web_lightmode.png\" width=\"300\" alt=\"cognitiveclass.ai logo\"  />\n",
    "</center>\n"
   ]
  },
  {
   "cell_type": "markdown",
   "id": "c0a73eef",
   "metadata": {},
   "source": [
    "#### Add your code below following the instructions given in the course\n"
   ]
  },
  {
   "cell_type": "markdown",
   "id": "77b49355",
   "metadata": {},
   "source": [
    "# My Jupyter Notebook on Watson Studio"
   ]
  },
  {
   "cell_type": "markdown",
   "id": "6b836d06",
   "metadata": {},
   "source": [
    "**Fırat Olçum** <br>\n",
    "Data Scientist"
   ]
  },
  {
   "cell_type": "markdown",
   "id": "8ad5a6f5",
   "metadata": {},
   "source": [
    "*I am interested in data science because I love derive insight from data.*"
   ]
  },
  {
   "cell_type": "markdown",
   "id": "bfcd9802",
   "metadata": {},
   "source": [
    "### Your code must be executed and must display an output. Try to keep the code simple."
   ]
  },
  {
   "cell_type": "code",
   "execution_count": 2,
   "id": "7fb414e3",
   "metadata": {},
   "outputs": [
    {
     "name": "stdout",
     "output_type": "stream",
     "text": [
      "Hello World\n"
     ]
    }
   ],
   "source": [
    "print(\"Hello World\")"
   ]
  },
  {
   "cell_type": "markdown",
   "id": "f0f605c6",
   "metadata": {},
   "source": [
    "These are the things that you should learn to become a `Data analyst`:\n",
    "1. BI Tools\n",
    "    - PowerBI\n",
    "    - Tableau\n",
    "2. SQL Tools\n",
    "    - Microsoft SQL Server\n",
    "    - MySQL\n",
    "    - PostgreSQL\n",
    "3. Spreadsheets\n",
    "    - Google Spreadsheet\n",
    "    - Microsoft Excel\n",
    "4. Programming Tools\n",
    "    - Python\n",
    "    - R\n",
    "5. Statistics\n",
    "\n",
    "**Note** : You can learn these things on Coursera.<br>\n",
    "[Click and go](https://www.coursera.org/)"
   ]
  },
  {
   "cell_type": "code",
   "execution_count": null,
   "id": "0c5afcc1",
   "metadata": {},
   "outputs": [],
   "source": []
  }
 ],
 "metadata": {
  "kernelspec": {
   "display_name": "Python 3",
   "language": "python",
   "name": "python3"
  },
  "language_info": {
   "codemirror_mode": {
    "name": "ipython",
    "version": 3
   },
   "file_extension": ".py",
   "mimetype": "text/x-python",
   "name": "python",
   "nbconvert_exporter": "python",
   "pygments_lexer": "ipython3",
   "version": "3.9.12"
  }
 },
 "nbformat": 4,
 "nbformat_minor": 5
}
